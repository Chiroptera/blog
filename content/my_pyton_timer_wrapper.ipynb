{
 "cells": [
  {
   "cell_type": "markdown",
   "metadata": {},
   "source": [
    "I work a lot with computation times for my master's dissertation. During exploratory development I'm usually using iPython where the `%timeit` and `%time` magic commands usually serve my purpose. Their use is quite simple. The `%time` returns the elapsed time for the expression that follows. The `%timeit` magic command allows for control over how many times should the expression be executed in a loop, how many loops, precision of the result, among others. In short, it's closer in functionality to Python's _timeit_ module."
   ]
  },
  {
   "cell_type": "code",
   "execution_count": 1,
   "metadata": {
    "collapsed": false
   },
   "outputs": [
    {
     "name": "stdout",
     "output_type": "stream",
     "text": [
      "CPU times: user 3.88 ms, sys: 66 µs, total: 3.95 ms\n",
      "Wall time: 3.5 ms\n"
     ]
    }
   ],
   "source": [
    "%time a = [i**2 for i in range(10000)]"
   ]
  },
  {
   "cell_type": "code",
   "execution_count": 2,
   "metadata": {
    "collapsed": false
   },
   "outputs": [
    {
     "name": "stdout",
     "output_type": "stream",
     "text": [
      "1000 loops, best of 3: 1.38 ms per loop\n"
     ]
    }
   ],
   "source": [
    "%timeit a = [i**2 for i in range(10000)]"
   ]
  },
  {
   "cell_type": "markdown",
   "metadata": {},
   "source": [
    "There are two things I still would like to do though. The first is to store the times in variables. The second is that I often would like to time a specific method from a class without having to programmatically change the class. To address this, I created a simple stopwatch Python class based on the _timeit_ module. I like _Matlab_'s names for their stopwatch commands, so I based myself on them (I think _tac_ is a better sound _toc_ but that's another matter). "
   ]
  },
  {
   "cell_type": "code",
   "execution_count": 23,
   "metadata": {
    "collapsed": false
   },
   "outputs": [
    {
     "data": {
      "text/plain": [
       "0.004786014556884766"
      ]
     },
     "execution_count": 23,
     "metadata": {},
     "output_type": "execute_result"
    }
   ],
   "source": [
    "from timeit import default_timer as timer\n",
    "\n",
    "class Timer():\n",
    "    def __init__(self, ID = None):\n",
    "        self.start = None\n",
    "        self.end = None\n",
    "        self.elapsed = 0\n",
    "\n",
    "    def tic(self):\n",
    "        self.start = timer()\n",
    "\n",
    "    def tac(self):\n",
    "        self.end = timer()\n",
    "        self.elapsed += self.end - self.start\n",
    "        return self.elapsed\n",
    "\n",
    "    def reset(self):\n",
    "        self.elapsed = 0\n",
    "        \n",
    "t = Timer()\n",
    "t.tic()\n",
    "a = [i**2 for i in range(10000)]\n",
    "t.tac()"
   ]
  },
  {
   "cell_type": "markdown",
   "metadata": {},
   "source": [
    "The second issue was more interesting and is actually the main reason I'm writing this post. Python's functions are just objects. I can passed them around as arguments if I want. This means it's quite easy to create a wrapper function around an input funtion. Here's an example of a wrapper function that will time the input function."
   ]
  },
  {
   "cell_type": "code",
   "execution_count": 32,
   "metadata": {
    "collapsed": false
   },
   "outputs": [
    {
     "data": {
      "text/plain": [
       "(2, 2.1457672119140625e-06)"
      ]
     },
     "execution_count": 32,
     "metadata": {},
     "output_type": "execute_result"
    }
   ],
   "source": [
    "def wrapper_add(fn, *args, **kwargs):\n",
    "    t = Timer()\n",
    "    t.tic()\n",
    "    returnvals = fn(*args, **kwargs)\n",
    "    t.tac()\n",
    "    return returnvals, t.elapsed\n",
    "\n",
    "add = lambda x, y: x + y\n",
    "\n",
    "wrapper_add(add, 1, 1)"
   ]
  },
  {
   "cell_type": "markdown",
   "metadata": {},
   "source": [
    "My idea was then to generate a wrapper function that would time the input function. Since Python's functions are objects I can create them inside a funciton and then return them. So here is what I came up with:"
   ]
  },
  {
   "cell_type": "code",
   "execution_count": null,
   "metadata": {
    "collapsed": true
   },
   "outputs": [],
   "source": [
    "class Timer():\n",
    "    # ... other methods ...\n",
    "    def wrap_function(self, fn):\n",
    "        def timed_fn(*args,**kwargs):\n",
    "            self.tic()\n",
    "            returnvals = fn(*args,**kwargs)\n",
    "            self.tac()\n",
    "            return returnvals\n",
    "        return timed_fn"
   ]
  },
  {
   "cell_type": "markdown",
   "metadata": {},
   "source": [
    "This method is taking in a function then creates a wrapper function like the one in the last example and returns it. It's that simple.\n",
    "\n",
    "I can create a normal timer like in the above examples and then I can wrap a function with that specific timer. Whenever that function is executed it increments the timer with the elapsed time."
   ]
  },
  {
   "cell_type": "code",
   "execution_count": 35,
   "metadata": {
    "collapsed": false
   },
   "outputs": [
    {
     "name": "stdout",
     "output_type": "stream",
     "text": [
      "0\n",
      "2.86102294922e-06\n",
      "5.96046447754e-06\n"
     ]
    }
   ],
   "source": [
    "add = lambda x, y: x + y\n",
    "\n",
    "t = Timer()\n",
    "print t.elapsed\n",
    "\n",
    "add_t = t.wrap_function(add)\n",
    "add_t(2,2)\n",
    "print t.elapsed\n",
    "\n",
    "add_t = t.wrap_function(add)\n",
    "add_t(2,2)\n",
    "print t.elapsed"
   ]
  },
  {
   "cell_type": "markdown",
   "metadata": {},
   "source": [
    "So I made a wrapper function generator but I still haven't changed an object's methods so they're timed as well. I'll show that now."
   ]
  },
  {
   "cell_type": "code",
   "execution_count": 127,
   "metadata": {
    "collapsed": false
   },
   "outputs": [
    {
     "name": "stdout",
     "output_type": "stream",
     "text": [
      "10000114.2094 70.9750652313\n",
      "10000114.2094 70.7581043243\n"
     ]
    }
   ],
   "source": [
    "import numpy as np\n",
    "\n",
    "class Dummy:\n",
    "    def __init__(self, x, y):\n",
    "        self.x = np.random.random(x)\n",
    "        self.y = np.random.random(y)\n",
    "        \n",
    "    def _add(self):\n",
    "        self.total = self.x + self.y\n",
    "        return self.total\n",
    "    \n",
    "t1 = Timer()\n",
    "t2 = Timer()\n",
    "\n",
    "d = Dummy(10000000, 10000000)\n",
    "\n",
    "t1.tic()\n",
    "d._add()\n",
    "t1.tac()\n",
    "print d.total.sum(), t1.elapsed * 1000\n",
    "\n",
    "d._add = t2.wrap_function(d._add)\n",
    "d._add()\n",
    "print d.total.sum(), t2.elapsed * 1000"
   ]
  },
  {
   "cell_type": "markdown",
   "metadata": {},
   "source": [
    "There is a caveat to this, though. The object's attributes have to be writtable. If they're _read-only_ then it's no play, as can be seen when I tried this on a NumPy array method."
   ]
  },
  {
   "cell_type": "code",
   "execution_count": 130,
   "metadata": {
    "collapsed": false
   },
   "outputs": [
    {
     "ename": "AttributeError",
     "evalue": "'numpy.ndarray' object attribute 'sort' is read-only",
     "output_type": "error",
     "traceback": [
      "\u001b[1;31m---------------------------------------------------------------------------\u001b[0m",
      "\u001b[1;31mAttributeError\u001b[0m                            Traceback (most recent call last)",
      "\u001b[1;32m<ipython-input-130-d8896a8a40e5>\u001b[0m in \u001b[0;36m<module>\u001b[1;34m()\u001b[0m\n\u001b[0;32m      4\u001b[0m \u001b[0marr\u001b[0m \u001b[1;33m=\u001b[0m \u001b[0mnp\u001b[0m\u001b[1;33m.\u001b[0m\u001b[0mrandom\u001b[0m\u001b[1;33m.\u001b[0m\u001b[0mrandom\u001b[0m\u001b[1;33m(\u001b[0m\u001b[1;36m100000\u001b[0m\u001b[1;33m)\u001b[0m\u001b[1;33m\u001b[0m\u001b[0m\n\u001b[0;32m      5\u001b[0m \u001b[1;33m\u001b[0m\u001b[0m\n\u001b[1;32m----> 6\u001b[1;33m \u001b[0marr\u001b[0m\u001b[1;33m.\u001b[0m\u001b[0msort\u001b[0m \u001b[1;33m=\u001b[0m \u001b[0mt\u001b[0m\u001b[1;33m.\u001b[0m\u001b[0mwrap_function\u001b[0m\u001b[1;33m(\u001b[0m\u001b[0marr\u001b[0m\u001b[1;33m.\u001b[0m\u001b[0margsort\u001b[0m\u001b[1;33m)\u001b[0m\u001b[1;33m\u001b[0m\u001b[0m\n\u001b[0m",
      "\u001b[1;31mAttributeError\u001b[0m: 'numpy.ndarray' object attribute 'sort' is read-only"
     ]
    }
   ],
   "source": [
    "import numpy as np\n",
    "\n",
    "t = Timer()\n",
    "arr = np.random.random(100000)\n",
    "\n",
    "arr.sort = t.wrap_function(arr.argsort)"
   ]
  }
 ],
 "metadata": {
  "kernelspec": {
   "display_name": "Python 2",
   "language": "python",
   "name": "python2"
  },
  "language_info": {
   "codemirror_mode": {
    "name": "ipython",
    "version": 2
   },
   "file_extension": ".py",
   "mimetype": "text/x-python",
   "name": "python",
   "nbconvert_exporter": "python",
   "pygments_lexer": "ipython2",
   "version": "2.7.10"
  }
 },
 "nbformat": 4,
 "nbformat_minor": 0
}
